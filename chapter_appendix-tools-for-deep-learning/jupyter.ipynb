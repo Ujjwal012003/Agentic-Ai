{
  "cells": [
    {
      "cell_type": "markdown",
      "id": "31d9a4c9",
      "metadata": {
        "origin_pos": 0,
        "id": "31d9a4c9"
      },
      "source": [
        "# Using Jupyter Notebooks\n",
        ":label:`sec_jupyter`\n",
        "\n",
        "\n",
        "This section describes how to edit and run the code\n",
        "in each section of this book\n",
        "using the Jupyter Notebook. Make sure you have\n",
        "installed Jupyter and downloaded the\n",
        "code as described in\n",
        ":ref:`chap_installation`.\n",
        "If you want to know more about Jupyter see the excellent tutorial in\n",
        "their [documentation](https://jupyter.readthedocs.io/en/latest/).\n",
        "\n",
        "\n",
        "## Editing and Running the Code Locally\n",
        "\n",
        "Suppose that the local path of the book's code is `xx/yy/d2l-en/`. Use the shell to change the directory to this path (`cd xx/yy/d2l-en`) and run the command `jupyter notebook`. If your browser does not do this automatically, open http://localhost:8888 and you will see the interface of Jupyter and all the folders containing the code of the book, as shown in :numref:`fig_jupyter00`.\n",
        "\n",
        "![The folders containing the code of this book.](https://github.com/d2l-ai/d2l-en-colab/blob/master/img/jupyter00.png?raw=1)\n",
        ":width:`600px`\n",
        ":label:`fig_jupyter00`\n",
        "\n",
        "\n",
        "You can access the notebook files by clicking on the folder displayed on the webpage.\n",
        "They usually have the suffix \".ipynb\".\n",
        "For the sake of brevity, we create a temporary \"test.ipynb\" file.\n",
        "The content displayed after you click it is\n",
        "shown in :numref:`fig_jupyter01`.\n",
        "This notebook includes a markdown cell and a code cell. The content in the markdown cell includes \"This Is a Title\" and \"This is text.\".\n",
        "The code cell contains two lines of Python code.\n",
        "\n",
        "![Markdown and code cells in the \"text.ipynb\" file.](https://github.com/d2l-ai/d2l-en-colab/blob/master/img/jupyter01.png?raw=1)\n",
        ":width:`600px`\n",
        ":label:`fig_jupyter01`\n",
        "\n",
        "\n",
        "Double click on the markdown cell to enter edit mode.\n",
        "Add a new text string \"Hello world.\" at the end of the cell, as shown in :numref:`fig_jupyter02`.\n",
        "\n",
        "![Edit the markdown cell.](https://github.com/d2l-ai/d2l-en-colab/blob/master/img/jupyter02.png?raw=1)\n",
        ":width:`600px`\n",
        ":label:`fig_jupyter02`\n",
        "\n",
        "\n",
        "As demonstrated in :numref:`fig_jupyter03`,\n",
        "click \"Cell\" $\\rightarrow$ \"Run Cells\" in the menu bar to run the edited cell.\n",
        "\n",
        "![Run the cell.](https://github.com/d2l-ai/d2l-en-colab/blob/master/img/jupyter03.png?raw=1)\n",
        ":width:`600px`\n",
        ":label:`fig_jupyter03`\n",
        "\n",
        "After running, the markdown cell is shown in :numref:`fig_jupyter04`.\n",
        "\n",
        "![The markdown cell after running.](https://github.com/d2l-ai/d2l-en-colab/blob/master/img/jupyter04.png?raw=1)\n",
        ":width:`600px`\n",
        ":label:`fig_jupyter04`\n",
        "\n",
        "\n",
        "Next, click on the code cell. Multiply the elements by 2 after the last line of code, as shown in :numref:`fig_jupyter05`.\n",
        "\n",
        "![Edit the code cell.](https://github.com/d2l-ai/d2l-en-colab/blob/master/img/jupyter05.png?raw=1)\n",
        ":width:`600px`\n",
        ":label:`fig_jupyter05`\n",
        "\n",
        "\n",
        "You can also run the cell with a shortcut (\"Ctrl + Enter\" by default) and obtain the output result from :numref:`fig_jupyter06`.\n",
        "\n",
        "![Run the code cell to obtain the output.](https://github.com/d2l-ai/d2l-en-colab/blob/master/img/jupyter06.png?raw=1)\n",
        ":width:`600px`\n",
        ":label:`fig_jupyter06`\n",
        "\n",
        "\n",
        "When a notebook contains more cells, we can click \"Kernel\" $\\rightarrow$ \"Restart & Run All\" in the menu bar to run all the cells in the entire notebook. By clicking \"Help\" $\\rightarrow$ \"Edit Keyboard Shortcuts\" in the menu bar, you can edit the shortcuts according to your preferences.\n",
        "\n",
        "## Advanced Options\n",
        "\n",
        "Beyond local editing two things are quite important: editing the notebooks in the markdown format and running Jupyter remotely.\n",
        "The latter matters when we want to run the code on a faster server.\n",
        "The former matters since Jupyter's native ipynb format stores a lot of auxiliary data that is\n",
        "irrelevant to the content,\n",
        "mostly related to how and where the code is run.\n",
        "This is confusing for Git, making\n",
        "reviewing contributions very difficult.\n",
        "Fortunately there is an alternative---native editing in the markdown format.\n",
        "\n",
        "### Markdown Files in Jupyter\n",
        "\n",
        "If you wish to contribute to the content of this book, you need to modify the\n",
        "source file (md file, not ipynb file) on GitHub.\n",
        "Using the notedown plugin we\n",
        "can modify notebooks in the md format directly in Jupyter.\n",
        "\n",
        "\n",
        "First, install the notedown plugin, run the Jupyter Notebook, and load the plugin:\n",
        "\n",
        "```\n",
        "pip install d2l-notedown  # You may need to uninstall the original notedown.\n",
        "jupyter notebook --NotebookApp.contents_manager_class='notedown.NotedownContentsManager'\n",
        "```\n",
        "\n",
        "You may also turn on the notedown plugin by default whenever you run the Jupyter Notebook.\n",
        "First, generate a Jupyter Notebook configuration file (if it has already been generated, you can skip this step).\n",
        "\n",
        "```\n",
        "jupyter notebook --generate-config\n",
        "```\n",
        "\n",
        "Then, add the following line to the end of the Jupyter Notebook configuration file (for Linux or macOS, usually in the path `~/.jupyter/jupyter_notebook_config.py`):\n",
        "\n",
        "```\n",
        "c.NotebookApp.contents_manager_class = 'notedown.NotedownContentsManager'\n",
        "```\n",
        "\n",
        "After that, you only need to run the `jupyter notebook` command to turn on the notedown plugin by default.\n",
        "\n",
        "### Running Jupyter Notebooks on a Remote Server\n",
        "\n",
        "Sometimes, you may want to run Jupyter notebooks on a remote server and access it through a browser on your local computer. If Linux or macOS is installed on your local machine (Windows can also support this function through third-party software such as PuTTY), you can use port forwarding:\n",
        "\n",
        "```\n",
        "ssh myserver -L 8888:localhost:8888\n",
        "```\n",
        "\n",
        "The above string `myserver` is the address of the remote server.\n",
        "Then we can use http://localhost:8888 to access the remote server `myserver` that runs Jupyter notebooks. We will detail on how to run Jupyter notebooks on AWS instances\n",
        "later in this appendix.\n",
        "\n",
        "### Timing\n",
        "\n",
        "We can use the `ExecuteTime` plugin to time the execution of each code cell in Jupyter notebooks.\n",
        "Use the following commands to install the plugin:\n",
        "\n",
        "```\n",
        "pip install jupyter_contrib_nbextensions\n",
        "jupyter contrib nbextension install --user\n",
        "jupyter nbextension enable execute_time/ExecuteTime\n",
        "```\n",
        "\n",
        "## Summary\n",
        "\n",
        "* Using the Jupyter Notebook tool, we can edit, run, and contribute to each section of the book.\n",
        "* We can run Jupyter notebooks on remote servers using port forwarding.\n",
        "\n",
        "\n",
        "## Exercises\n",
        "\n",
        "1. Edit and run the code in this book with the Jupyter Notebook on your local machine.\n",
        "1. Edit and run the code in this book with the Jupyter Notebook *remotely* via port forwarding.\n",
        "1. Compare the running time of the operations $\\mathbf{A}^\\top \\mathbf{B}$ and $\\mathbf{A} \\mathbf{B}$ for two square matrices in $\\mathbb{R}^{1024 \\times 1024}$. Which one is faster?\n",
        "\n",
        "\n",
        "[Discussions](https://discuss.d2l.ai/t/421)\n"
      ]
    },
    {
      "cell_type": "markdown",
      "metadata": {
        "id": "b31529f8"
      },
      "source": [
        "To run the notebook, please first upload it to your Colab environment. You can do this by clicking on the folder icon in the left sidebar, then clicking the upload icon and selecting your `PCA.ipynb` file. Once the file is uploaded, you can run it using the following command:"
      ],
      "id": "b31529f8"
    },
    {
      "cell_type": "markdown",
      "metadata": {
        "id": "bc4ba4a4"
      },
      "source": [
        "To run the notebook, please first upload it to your Colab environment. You can do this by clicking on the folder icon in the left sidebar, then clicking the upload icon and selecting your `PCA.ipynb` file. Once the file is uploaded, you can run it using the following command:"
      ],
      "id": "bc4ba4a4"
    },
    {
      "cell_type": "markdown",
      "source": [
        "# PCA Analysis on Given Data\n",
        "\n",
        "This notebook performs Principal Component Analysis (PCA) on the provided multi-dimensional dataset with 50 variables.\n",
        "\n",
        "The data consists of 50 features (Var1 to Var50).\n",
        "\n",
        "## Steps:\n",
        "1. Import necessary libraries\n",
        "2. Load and examine the data\n",
        "3. Standardize the data\n",
        "4. Perform PCA\n",
        "5. Analyze and visualize the results\n"
      ],
      "metadata": {
        "id": "cLyvuq9k-XF9"
      },
      "id": "cLyvuq9k-XF9"
    },
    {
      "cell_type": "code",
      "source": [
        "import numpy as np\n",
        "import pandas as pd\n",
        "from sklearn.decomposition import PCA\n",
        "from sklearn.preprocessing import StandardScaler\n",
        "import matplotlib.pyplot as plt\n",
        "import seaborn as sns"
      ],
      "metadata": {
        "id": "TQ4VxOIu-bPL"
      },
      "id": "TQ4VxOIu-bPL",
      "execution_count": 3,
      "outputs": []
    },
    {
      "cell_type": "code",
      "source": [
        "plt.style.use('default')\n",
        "sns.set_palette(\"husl\")\n",
        "\n",
        "print(\"Libraries imported successfully!\")\n"
      ],
      "metadata": {
        "id": "ZfsXOQJH-fJh",
        "outputId": "c2ad9bc2-e894-427a-f36e-f4ce0e3ac6dd",
        "colab": {
          "base_uri": "https://localhost:8080/"
        }
      },
      "id": "ZfsXOQJH-fJh",
      "execution_count": 4,
      "outputs": [
        {
          "output_type": "stream",
          "name": "stdout",
          "text": [
            "Libraries imported successfully!\n"
          ]
        }
      ]
    },
    {
      "cell_type": "markdown",
      "source": [
        "## 2. Load and Examine the Data\n",
        "\n",
        "\n"
      ],
      "metadata": {
        "id": "R1OJnUH0-hyx"
      },
      "id": "R1OJnUH0-hyx"
    },
    {
      "cell_type": "code",
      "source": [
        "df = pd.read_csv('pca_dataset_50k_50.csv')\n",
        "\n",
        "print(\"Dataset shape:\", df.shape)\n",
        "print(\"\\nFirst few rows:\")\n",
        "print(df.head())\n",
        "\n",
        "print(\"\\nDataset info:\")\n",
        "print(df.info())\n",
        "\n",
        "print(\"\\nBasic statistics:\")\n",
        "print(df.describe())"
      ],
      "metadata": {
        "id": "cLJyiS6V-l6L",
        "outputId": "96fdd2a0-9cb4-4467-c344-04e3eb0bade9",
        "colab": {
          "base_uri": "https://localhost:8080/"
        }
      },
      "id": "cLJyiS6V-l6L",
      "execution_count": 5,
      "outputs": [
        {
          "output_type": "stream",
          "name": "stdout",
          "text": [
            "Dataset shape: (50000, 50)\n",
            "\n",
            "First few rows:\n",
            "       Var1      Var2      Var3      Var4      Var5      Var6      Var7  \\\n",
            "0  1.149848  1.357780  1.329125  0.244536 -2.268132  0.060351  1.524885   \n",
            "1  2.864148 -0.291816  0.299397  0.164727 -0.606526  0.690827  1.394425   \n",
            "2 -0.991602 -0.249652  0.885130 -0.247479 -0.442107 -1.362880 -0.921843   \n",
            "3 -0.936831 -0.905994  0.066878  0.038687 -0.207150  0.059825 -0.729053   \n",
            "4  1.281513 -0.102489  0.118288  1.815495  0.015085  0.224856 -0.482594   \n",
            "\n",
            "       Var8      Var9     Var10  ...     Var41     Var42     Var43     Var44  \\\n",
            "0  1.004007  2.367178  0.141407  ...  1.607041  0.658871  1.350831 -0.744788   \n",
            "1  0.562861  1.232435 -1.551308  ... -0.823909  2.329009  0.499092 -0.544356   \n",
            "2 -1.321077 -0.113123  1.277303  ... -0.205167  0.137726  0.344074 -2.102065   \n",
            "3  0.122748 -0.610445 -0.062235  ... -1.830303  1.214161 -0.050815  1.462739   \n",
            "4 -0.773435 -0.134659 -1.652029  ...  0.064356  0.096824 -1.398954  0.141717   \n",
            "\n",
            "      Var45     Var46     Var47     Var48     Var49     Var50  \n",
            "0 -0.525315  2.725224  0.727330 -0.528580  0.122378 -1.079773  \n",
            "1 -0.786015  0.093901 -0.046729 -0.853668 -1.106659  1.487077  \n",
            "2  1.057240  0.573977  0.649546 -0.814320 -0.026861  1.530406  \n",
            "3  0.142964  0.692104  0.363169  1.556976 -0.048156 -1.012921  \n",
            "4  0.118351 -2.058277 -1.299675 -0.287792  0.674706  0.667228  \n",
            "\n",
            "[5 rows x 50 columns]\n",
            "\n",
            "Dataset info:\n",
            "<class 'pandas.core.frame.DataFrame'>\n",
            "RangeIndex: 50000 entries, 0 to 49999\n",
            "Data columns (total 50 columns):\n",
            " #   Column  Non-Null Count  Dtype  \n",
            "---  ------  --------------  -----  \n",
            " 0   Var1    50000 non-null  float64\n",
            " 1   Var2    50000 non-null  float64\n",
            " 2   Var3    50000 non-null  float64\n",
            " 3   Var4    50000 non-null  float64\n",
            " 4   Var5    50000 non-null  float64\n",
            " 5   Var6    50000 non-null  float64\n",
            " 6   Var7    50000 non-null  float64\n",
            " 7   Var8    50000 non-null  float64\n",
            " 8   Var9    50000 non-null  float64\n",
            " 9   Var10   50000 non-null  float64\n",
            " 10  Var11   50000 non-null  float64\n",
            " 11  Var12   50000 non-null  float64\n",
            " 12  Var13   50000 non-null  float64\n",
            " 13  Var14   50000 non-null  float64\n",
            " 14  Var15   50000 non-null  float64\n",
            " 15  Var16   50000 non-null  float64\n",
            " 16  Var17   50000 non-null  float64\n",
            " 17  Var18   50000 non-null  float64\n",
            " 18  Var19   50000 non-null  float64\n",
            " 19  Var20   50000 non-null  float64\n",
            " 20  Var21   50000 non-null  float64\n",
            " 21  Var22   50000 non-null  float64\n",
            " 22  Var23   50000 non-null  float64\n",
            " 23  Var24   50000 non-null  float64\n",
            " 24  Var25   50000 non-null  float64\n",
            " 25  Var26   50000 non-null  float64\n",
            " 26  Var27   50000 non-null  float64\n",
            " 27  Var28   50000 non-null  float64\n",
            " 28  Var29   50000 non-null  float64\n",
            " 29  Var30   50000 non-null  float64\n",
            " 30  Var31   50000 non-null  float64\n",
            " 31  Var32   50000 non-null  float64\n",
            " 32  Var33   50000 non-null  float64\n",
            " 33  Var34   50000 non-null  float64\n",
            " 34  Var35   50000 non-null  float64\n",
            " 35  Var36   50000 non-null  float64\n",
            " 36  Var37   50000 non-null  float64\n",
            " 37  Var38   50000 non-null  float64\n",
            " 38  Var39   50000 non-null  float64\n",
            " 39  Var40   50000 non-null  float64\n",
            " 40  Var41   50000 non-null  float64\n",
            " 41  Var42   50000 non-null  float64\n",
            " 42  Var43   50000 non-null  float64\n",
            " 43  Var44   50000 non-null  float64\n",
            " 44  Var45   50000 non-null  float64\n",
            " 45  Var46   50000 non-null  float64\n",
            " 46  Var47   50000 non-null  float64\n",
            " 47  Var48   50000 non-null  float64\n",
            " 48  Var49   50000 non-null  float64\n",
            " 49  Var50   50000 non-null  float64\n",
            "dtypes: float64(50)\n",
            "memory usage: 19.1 MB\n",
            "None\n",
            "\n",
            "Basic statistics:\n",
            "               Var1          Var2          Var3          Var4          Var5  \\\n",
            "count  50000.000000  50000.000000  50000.000000  50000.000000  50000.000000   \n",
            "mean      -0.008378      0.000656      0.002014      0.002407     -0.005083   \n",
            "std        0.997438      1.000159      0.994170      0.997068      1.004446   \n",
            "min       -3.922825     -4.504364     -4.027056     -4.207069     -4.045224   \n",
            "25%       -0.683596     -0.668488     -0.669881     -0.665095     -0.679802   \n",
            "50%       -0.004264     -0.004498      0.000889      0.004862     -0.012295   \n",
            "75%        0.663042      0.678008      0.670730      0.670608      0.669396   \n",
            "max        4.225268      4.312972      4.040699      4.288388      3.991197   \n",
            "\n",
            "               Var6          Var7          Var8          Var9         Var10  \\\n",
            "count  50000.000000  50000.000000  50000.000000  50000.000000  50000.000000   \n",
            "mean       0.001518      0.000970      0.000519      0.003599     -0.004509   \n",
            "std        1.003018      0.994682      1.001368      0.999369      0.995944   \n",
            "min       -4.192149     -4.181322     -4.269922     -4.292639     -4.148114   \n",
            "25%       -0.677520     -0.670185     -0.671115     -0.664177     -0.679808   \n",
            "50%        0.004498     -0.005269      0.000007      0.001546      0.001077   \n",
            "75%        0.679536      0.673085      0.678284      0.671783      0.664836   \n",
            "max        4.587019      4.082301      3.955179      4.049164      3.830923   \n",
            "\n",
            "       ...         Var41         Var42         Var43         Var44  \\\n",
            "count  ...  50000.000000  50000.000000  50000.000000  50000.000000   \n",
            "mean   ...      0.000104      0.003664     -0.002620      0.000518   \n",
            "std    ...      1.001456      0.999173      1.002805      1.001697   \n",
            "min    ...     -4.540145     -4.392407     -4.347275     -4.452482   \n",
            "25%    ...     -0.678584     -0.671954     -0.679082     -0.676547   \n",
            "50%    ...     -0.001559     -0.002199     -0.006242     -0.003517   \n",
            "75%    ...      0.670131      0.680197      0.671764      0.679377   \n",
            "max    ...      4.078124      4.201278      4.569963      4.078865   \n",
            "\n",
            "              Var45         Var46         Var47         Var48         Var49  \\\n",
            "count  50000.000000  50000.000000  50000.000000  50000.000000  50000.000000   \n",
            "mean       0.001425      0.006230      0.004940     -0.001187     -0.000939   \n",
            "std        1.001170      0.999606      0.994627      1.002225      1.003067   \n",
            "min       -4.011711     -4.209357     -3.952680     -4.011682     -3.877761   \n",
            "25%       -0.670194     -0.668990     -0.664123     -0.682077     -0.679116   \n",
            "50%       -0.004158      0.005877      0.003624      0.006723      0.002828   \n",
            "75%        0.674163      0.681902      0.671453      0.680262      0.675485   \n",
            "max        4.384314      4.496312      3.796476      3.753153      3.968065   \n",
            "\n",
            "              Var50  \n",
            "count  50000.000000  \n",
            "mean      -0.001429  \n",
            "std        1.002073  \n",
            "min       -4.225409  \n",
            "25%       -0.678939  \n",
            "50%        0.000631  \n",
            "75%        0.672154  \n",
            "max        4.167506  \n",
            "\n",
            "[8 rows x 50 columns]\n"
          ]
        }
      ]
    },
    {
      "cell_type": "code",
      "source": [
        "print(\"Missing values per column:\")\n",
        "missing_values = df.isnull().sum()\n",
        "print(missing_values[missing_values > 0])\n",
        "\n",
        "if missing_values.sum() == 0:\n",
        "    print(\"No missing values found!\")"
      ],
      "metadata": {
        "id": "9-Btkdha-tsv",
        "outputId": "94b72d7d-c4ab-45e1-c48e-a803fdb680b3",
        "colab": {
          "base_uri": "https://localhost:8080/"
        }
      },
      "id": "9-Btkdha-tsv",
      "execution_count": 6,
      "outputs": [
        {
          "output_type": "stream",
          "name": "stdout",
          "text": [
            "Missing values per column:\n",
            "Series([], dtype: int64)\n",
            "No missing values found!\n"
          ]
        }
      ]
    },
    {
      "cell_type": "markdown",
      "source": [
        "## 3. Data Standardization\n"
      ],
      "metadata": {
        "id": "R4vpXd-d-xo8"
      },
      "id": "R4vpXd-d-xo8"
    },
    {
      "cell_type": "code",
      "source": [
        "scaler = StandardScaler()\n",
        "df_scaled = scaler.fit_transform(df)\n",
        "\n",
        "df_scaled = pd.DataFrame(df_scaled, columns=df.columns)\n",
        "\n",
        "print(\"Data standardized successfully!\")\n",
        "print(\"\\nMean of standardized data:\")\n",
        "print(df_scaled.mean().round(10))\n",
        "print(\"\\nStandard deviation of standardized data:\")\n",
        "print(df_scaled.std().round(10))\n"
      ],
      "metadata": {
        "id": "pVfl7EFP-yU3",
        "outputId": "ef32ecd0-20c0-4119-9e85-bea5b772246b",
        "colab": {
          "base_uri": "https://localhost:8080/"
        }
      },
      "id": "pVfl7EFP-yU3",
      "execution_count": 7,
      "outputs": [
        {
          "output_type": "stream",
          "name": "stdout",
          "text": [
            "Data standardized successfully!\n",
            "\n",
            "Mean of standardized data:\n",
            "Var1    -0.0\n",
            "Var2     0.0\n",
            "Var3     0.0\n",
            "Var4    -0.0\n",
            "Var5     0.0\n",
            "Var6    -0.0\n",
            "Var7    -0.0\n",
            "Var8    -0.0\n",
            "Var9     0.0\n",
            "Var10   -0.0\n",
            "Var11    0.0\n",
            "Var12    0.0\n",
            "Var13    0.0\n",
            "Var14    0.0\n",
            "Var15    0.0\n",
            "Var16   -0.0\n",
            "Var17    0.0\n",
            "Var18   -0.0\n",
            "Var19   -0.0\n",
            "Var20   -0.0\n",
            "Var21    0.0\n",
            "Var22   -0.0\n",
            "Var23   -0.0\n",
            "Var24    0.0\n",
            "Var25   -0.0\n",
            "Var26    0.0\n",
            "Var27    0.0\n",
            "Var28   -0.0\n",
            "Var29    0.0\n",
            "Var30   -0.0\n",
            "Var31   -0.0\n",
            "Var32   -0.0\n",
            "Var33    0.0\n",
            "Var34    0.0\n",
            "Var35    0.0\n",
            "Var36    0.0\n",
            "Var37    0.0\n",
            "Var38   -0.0\n",
            "Var39   -0.0\n",
            "Var40   -0.0\n",
            "Var41   -0.0\n",
            "Var42   -0.0\n",
            "Var43    0.0\n",
            "Var44    0.0\n",
            "Var45   -0.0\n",
            "Var46   -0.0\n",
            "Var47   -0.0\n",
            "Var48    0.0\n",
            "Var49    0.0\n",
            "Var50   -0.0\n",
            "dtype: float64\n",
            "\n",
            "Standard deviation of standardized data:\n",
            "Var1     1.00001\n",
            "Var2     1.00001\n",
            "Var3     1.00001\n",
            "Var4     1.00001\n",
            "Var5     1.00001\n",
            "Var6     1.00001\n",
            "Var7     1.00001\n",
            "Var8     1.00001\n",
            "Var9     1.00001\n",
            "Var10    1.00001\n",
            "Var11    1.00001\n",
            "Var12    1.00001\n",
            "Var13    1.00001\n",
            "Var14    1.00001\n",
            "Var15    1.00001\n",
            "Var16    1.00001\n",
            "Var17    1.00001\n",
            "Var18    1.00001\n",
            "Var19    1.00001\n",
            "Var20    1.00001\n",
            "Var21    1.00001\n",
            "Var22    1.00001\n",
            "Var23    1.00001\n",
            "Var24    1.00001\n",
            "Var25    1.00001\n",
            "Var26    1.00001\n",
            "Var27    1.00001\n",
            "Var28    1.00001\n",
            "Var29    1.00001\n",
            "Var30    1.00001\n",
            "Var31    1.00001\n",
            "Var32    1.00001\n",
            "Var33    1.00001\n",
            "Var34    1.00001\n",
            "Var35    1.00001\n",
            "Var36    1.00001\n",
            "Var37    1.00001\n",
            "Var38    1.00001\n",
            "Var39    1.00001\n",
            "Var40    1.00001\n",
            "Var41    1.00001\n",
            "Var42    1.00001\n",
            "Var43    1.00001\n",
            "Var44    1.00001\n",
            "Var45    1.00001\n",
            "Var46    1.00001\n",
            "Var47    1.00001\n",
            "Var48    1.00001\n",
            "Var49    1.00001\n",
            "Var50    1.00001\n",
            "dtype: float64\n"
          ]
        }
      ]
    },
    {
      "cell_type": "markdown",
      "source": [
        "## 4. Perform PCA"
      ],
      "metadata": {
        "id": "tATFkS45-3Gu"
      },
      "id": "tATFkS45-3Gu"
    },
    {
      "cell_type": "code",
      "source": [
        "pca = PCA()\n",
        "pca_result = pca.fit_transform(df_scaled)\n",
        "\n",
        "explained_variance_ratio = pca.explained_variance_ratio_\n",
        "cumulative_variance_ratio = np.cumsum(explained_variance_ratio)\n",
        "\n",
        "print(f\"Number of components: {len(explained_variance_ratio)}\")\n",
        "print(f\"Total variance explained: {cumulative_variance_ratio[-1]:.4f}\")"
      ],
      "metadata": {
        "id": "EHdCxlI--8DT",
        "outputId": "b99c4634-7b0f-47a7-c8bc-0ed35c931a93",
        "colab": {
          "base_uri": "https://localhost:8080/"
        }
      },
      "id": "EHdCxlI--8DT",
      "execution_count": 8,
      "outputs": [
        {
          "output_type": "stream",
          "name": "stdout",
          "text": [
            "Number of components: 50\n",
            "Total variance explained: 1.0000\n"
          ]
        }
      ]
    },
    {
      "cell_type": "code",
      "source": [
        "print(\"\\nVariance explained by first 10 components:\")\n",
        "for i in range(min(10, len(explained_variance_ratio))):\n",
        "    print(f\"PC{i+1}: {explained_variance_ratio[i]:.4f} ({explained_variance_ratio[i]*100:.2f}%)\")"
      ],
      "metadata": {
        "id": "iUsyS4Lc_BDx",
        "outputId": "e658cfad-4833-4909-c70e-33df2f58822a",
        "colab": {
          "base_uri": "https://localhost:8080/"
        }
      },
      "id": "iUsyS4Lc_BDx",
      "execution_count": 10,
      "outputs": [
        {
          "output_type": "stream",
          "name": "stdout",
          "text": [
            "\n",
            "Variance explained by first 10 components:\n",
            "PC1: 0.0213 (2.13%)\n",
            "PC2: 0.0212 (2.12%)\n",
            "PC3: 0.0211 (2.11%)\n",
            "PC4: 0.0210 (2.10%)\n",
            "PC5: 0.0209 (2.09%)\n",
            "PC6: 0.0209 (2.09%)\n",
            "PC7: 0.0208 (2.08%)\n",
            "PC8: 0.0207 (2.07%)\n",
            "PC9: 0.0207 (2.07%)\n",
            "PC10: 0.0206 (2.06%)\n"
          ]
        }
      ]
    },
    {
      "cell_type": "markdown",
      "source": [
        "## 5. Visualize PCA Results"
      ],
      "metadata": {
        "id": "MX7wss7M_I55"
      },
      "id": "MX7wss7M_I55"
    },
    {
      "cell_type": "code",
      "source": [
        "plt.figure(figsize=(12, 5))\n",
        "\n",
        "# Plot 1: Scree plot\n",
        "plt.subplot(1, 2, 1)\n",
        "plt.plot(range(1, len(explained_variance_ratio) + 1), explained_variance_ratio, 'bo-', linewidth=2, markersize=6)\n",
        "plt.xlabel('Principal Component')\n",
        "plt.ylabel('Explained Variance Ratio')\n",
        "plt.title('Scree Plot')\n",
        "plt.grid(True, alpha=0.3)"
      ],
      "metadata": {
        "id": "vzeBZC4t_Jmq",
        "outputId": "5d89ed04-2d39-4b5e-df16-79c0cc96a400",
        "colab": {
          "base_uri": "https://localhost:8080/",
          "height": 487
        }
      },
      "id": "vzeBZC4t_Jmq",
      "execution_count": 11,
      "outputs": [
        {
          "output_type": "display_data",
          "data": {
            "text/plain": [
              "<Figure size 1200x500 with 1 Axes>"
            ],
            "image/png": "[encoded data removed]"
          },
          "metadata": {}
        }
      ]
    },
    {
      "cell_type": "code",
      "source": [
        "# Plot 2: Cumulative variance plot\n",
        "plt.subplot(1, 2, 2)\n",
        "plt.plot(range(1, len(cumulative_variance_ratio) + 1), cumulative_variance_ratio, 'ro-', linewidth=2, markersize=6)\n",
        "plt.axhline(y=0.95, color='k', linestyle='--', alpha=0.5, label='95% Variance')\n",
        "plt.axhline(y=0.99, color='k', linestyle=':', alpha=0.5, label='99% Variance')\n",
        "plt.xlabel('Principal Component')\n",
        "plt.ylabel('Cumulative Explained Variance Ratio')\n",
        "plt.title('Cumulative Variance Explained')\n",
        "plt.legend()\n",
        "plt.grid(True, alpha=0.3)\n",
        "\n",
        "plt.tight_layout()\n",
        "plt.show()"
      ],
      "metadata": {
        "id": "YK8D0E8d_Pmx",
        "outputId": "41d066c6-70e5-4bea-fd2c-6e3cf7d8591f",
        "colab": {
          "base_uri": "https://localhost:8080/",
          "height": 487
        }
      },
      "id": "YK8D0E8d_Pmx",
      "execution_count": 12,
      "outputs": [
        {
          "output_type": "display_data",
          "data": {
            "text/plain": [
              "<Figure size 640x480 with 1 Axes>"
            ],
            "image/png": "[encoded data removed]"
          },
          "metadata": {}
        }
      ]
    },
    {
      "cell_type": "code",
      "source": [
        "def find_n_components(cumulative_var, threshold):\n",
        "    return np.argmax(cumulative_var >= threshold) + 1\n",
        "\n",
        "n_95 = find_n_components(cumulative_variance_ratio, 0.95)\n",
        "n_99 = find_n_components(cumulative_variance_ratio, 0.99)\n",
        "\n",
        "print(f\"Number of components needed to explain:\")\n",
        "print(f\"95% of variance: {n_95} components\")\n",
        "print(f\"99% of variance: {n_99} components\")\n",
        "print(f\"\\nActual variance explained:\")\n",
        "print(f\"{n_95} components: {cumulative_variance_ratio[n_95-1]:.4f} ({cumulative_variance_ratio[n_95-1]*100:.2f}%)\")\n",
        "print(f\"{n_99} components: {cumulative_variance_ratio[n_99-1]:.4f} ({cumulative_variance_ratio[n_99-1]*100:.2f}%)\")\n"
      ],
      "metadata": {
        "id": "PouwYK4g_WyU",
        "outputId": "c2d5e1aa-2d8c-4773-9de3-185ba5eba1f4",
        "colab": {
          "base_uri": "https://localhost:8080/"
        }
      },
      "id": "PouwYK4g_WyU",
      "execution_count": 13,
      "outputs": [
        {
          "output_type": "stream",
          "name": "stdout",
          "text": [
            "Number of components needed to explain:\n",
            "95% of variance: 48 components\n",
            "99% of variance: 50 components\n",
            "\n",
            "Actual variance explained:\n",
            "48 components: 0.9623 (96.23%)\n",
            "50 components: 1.0000 (100.00%)\n"
          ]
        }
      ]
    },
    {
      "cell_type": "markdown",
      "source": [
        "## 6. PCA with Reduced Dimensions\n"
      ],
      "metadata": {
        "id": "NcbAUdVn_Zrn"
      },
      "id": "NcbAUdVn_Zrn"
    },
    {
      "cell_type": "code",
      "source": [
        "pca_reduced = PCA(n_components=n_95)\n",
        "pca_result_reduced = pca_reduced.fit_transform(df_scaled)\n",
        "\n",
        "print(f\"Original data shape: {df.shape}\")\n",
        "print(f\"Reduced data shape: {pca_result_reduced.shape}\")\n",
        "print(f\"Dimensionality reduction: {df.shape[1] - pca_result_reduced.shape[1]} dimensions removed\")\n",
        "print(f\"Variance retained: {pca_reduced.explained_variance_ratio_.sum():.4f} ({pca_reduced.explained_variance_ratio_.sum()*100:.2f}%)\")\n",
        "\n"
      ],
      "metadata": {
        "id": "qmAjSYcC_aqd",
        "outputId": "356cb826-18db-41a7-cc88-c8c04c1eac4e",
        "colab": {
          "base_uri": "https://localhost:8080/"
        }
      },
      "id": "qmAjSYcC_aqd",
      "execution_count": 14,
      "outputs": [
        {
          "output_type": "stream",
          "name": "stdout",
          "text": [
            "Original data shape: (50000, 50)\n",
            "Reduced data shape: (50000, 48)\n",
            "Dimensionality reduction: 2 dimensions removed\n",
            "Variance retained: 0.9623 (96.23%)\n"
          ]
        }
      ]
    },
    {
      "cell_type": "code",
      "source": [
        "pca_df = pd.DataFrame(\n",
        "    pca_result_reduced,\n",
        "    columns=[f'PC{i+1}' for i in range(pca_result_reduced.shape[1])]\n",
        ")\n",
        "\n",
        "print(\"PCA transformed data (first 5 rows):\")\n",
        "print(pca_df.head())\n",
        "\n",
        "print(\"\\nPCA transformed data statistics:\")\n",
        "print(pca_df.describe())\n"
      ],
      "metadata": {
        "id": "wGUwDfI2_hhd",
        "outputId": "19c069b0-9c1d-4baf-df37-d40abc39aff3",
        "colab": {
          "base_uri": "https://localhost:8080/"
        }
      },
      "id": "wGUwDfI2_hhd",
      "execution_count": 15,
      "outputs": [
        {
          "output_type": "stream",
          "name": "stdout",
          "text": [
            "PCA transformed data (first 5 rows):\n",
            "        PC1       PC2       PC3       PC4       PC5       PC6       PC7  \\\n",
            "0  0.396037 -1.550171 -0.911928  0.145432  0.172317  0.834898  0.518749   \n",
            "1  0.727435 -0.683243 -0.694703 -0.699172  0.676035  0.434862 -0.078187   \n",
            "2  0.528034 -1.898708  0.606502  0.156254 -0.508968  0.614243  1.254363   \n",
            "3 -0.602375  1.958237 -0.654576 -0.440060 -0.929851 -0.893095  0.871097   \n",
            "4 -1.382699  0.365084 -0.157571  0.211626 -0.849419 -1.854871 -0.419612   \n",
            "\n",
            "        PC8       PC9      PC10  ...      PC39      PC40      PC41      PC42  \\\n",
            "0 -0.822224 -0.806179  0.119227  ... -2.221865  0.844298 -0.589371  0.872218   \n",
            "1 -0.149503 -0.292990  1.271061  ... -0.689691  1.219788 -1.518839  0.512399   \n",
            "2  0.676558 -0.278476 -1.393727  ...  0.067330 -0.735737 -0.425562 -1.504646   \n",
            "3  0.554593  0.207987 -0.280149  ... -1.315846  0.377640 -0.884536  0.165457   \n",
            "4 -0.748230  0.117228  0.933319  ...  1.753411  0.568560 -1.090710  0.939193   \n",
            "\n",
            "       PC43      PC44      PC45      PC46      PC47      PC48  \n",
            "0  1.208709 -0.081949 -0.254851 -1.211787  0.718229  1.375564  \n",
            "1 -0.498261 -0.403383 -0.172063 -0.597455  1.626469 -1.069452  \n",
            "2  0.947890  0.110010  0.534567 -1.760972 -0.009437  0.573621  \n",
            "3 -1.460277 -1.127444 -1.086132 -0.479907 -0.660283 -0.275070  \n",
            "4 -0.197372  0.395016 -1.015944  0.433165 -0.633873 -0.381254  \n",
            "\n",
            "[5 rows x 48 columns]\n",
            "\n",
            "PCA transformed data statistics:\n",
            "                PC1           PC2           PC3           PC4           PC5  \\\n",
            "count  5.000000e+04  5.000000e+04  5.000000e+04  5.000000e+04  5.000000e+04   \n",
            "mean  -8.526513e-18 -2.700062e-18  1.080025e-17  9.130474e-18  9.521273e-18   \n",
            "std    1.030819e+00  1.029901e+00  1.026586e+00  1.025847e+00  1.022746e+00   \n",
            "min   -4.487201e+00 -4.349171e+00 -4.409593e+00 -4.081563e+00 -4.352451e+00   \n",
            "25%   -6.894979e-01 -6.931549e-01 -6.986733e-01 -6.921359e-01 -6.915610e-01   \n",
            "50%   -2.915776e-03 -1.170965e-03 -3.070672e-03  5.508890e-03  5.197539e-03   \n",
            "75%    6.948354e-01  6.888493e-01  6.967510e-01  6.893953e-01  6.838782e-01   \n",
            "max    4.498290e+00  4.536684e+00  4.218946e+00  4.151263e+00  4.438148e+00   \n",
            "\n",
            "                PC6           PC7           PC8           PC9          PC10  \\\n",
            "count  5.000000e+04  5.000000e+04  5.000000e+04  5.000000e+04  5.000000e+04   \n",
            "mean   1.698197e-17  1.271871e-17 -1.779910e-17  1.087130e-17  1.989520e-18   \n",
            "std    1.021820e+00  1.020438e+00  1.018223e+00  1.017172e+00  1.016086e+00   \n",
            "min   -4.769377e+00 -4.020196e+00 -4.132387e+00 -4.809837e+00 -4.116549e+00   \n",
            "25%   -6.992751e-01 -6.868432e-01 -6.890038e-01 -6.864556e-01 -6.872673e-01   \n",
            "50%    2.463087e-03 -4.256495e-04  1.515325e-03  2.605194e-03 -1.296844e-03   \n",
            "75%    6.896207e-01  6.895591e-01  6.806476e-01  6.842656e-01  6.901995e-01   \n",
            "max    4.242841e+00  4.222335e+00  4.318844e+00  4.147764e+00  4.015600e+00   \n",
            "\n",
            "       ...          PC39          PC40          PC41          PC42  \\\n",
            "count  ...  5.000000e+04  5.000000e+04  5.000000e+04  5.000000e+04   \n",
            "mean   ... -3.446132e-18 -9.166001e-18 -1.108447e-17  1.051603e-17   \n",
            "std    ...  9.857113e-01  9.855570e-01  9.838556e-01  9.828839e-01   \n",
            "min    ... -3.672093e+00 -3.887710e+00 -4.667182e+00 -4.302989e+00   \n",
            "25%    ... -6.684874e-01 -6.683653e-01 -6.627079e-01 -6.580456e-01   \n",
            "50%    ...  6.864393e-03 -5.847862e-03 -9.304812e-04 -1.485603e-03   \n",
            "75%    ...  6.657514e-01  6.637964e-01  6.570791e-01  6.658322e-01   \n",
            "max    ...  3.974142e+00  3.734980e+00  4.379689e+00  4.565003e+00   \n",
            "\n",
            "               PC43          PC44          PC45          PC46          PC47  \\\n",
            "count  5.000000e+04  5.000000e+04  5.000000e+04  5.000000e+04  5.000000e+04   \n",
            "mean   2.557954e-18 -1.961098e-17 -1.534772e-17 -1.010747e-17 -8.633094e-18   \n",
            "std    9.809275e-01  9.802545e-01  9.791701e-01  9.766646e-01  9.759737e-01   \n",
            "min   -4.151734e+00 -4.117555e+00 -4.406239e+00 -4.213834e+00 -4.369361e+00   \n",
            "25%   -6.616290e-01 -6.599376e-01 -6.607305e-01 -6.627496e-01 -6.575525e-01   \n",
            "50%   -2.244668e-03  2.458828e-03 -6.511049e-04 -3.474436e-03 -2.348348e-04   \n",
            "75%    6.592344e-01  6.594974e-01  6.559346e-01  6.666101e-01  6.573875e-01   \n",
            "max    4.119559e+00  3.988179e+00  4.384720e+00  4.037682e+00  4.439727e+00   \n",
            "\n",
            "               PC48  \n",
            "count  5.000000e+04  \n",
            "mean  -1.477929e-17  \n",
            "std    9.745720e-01  \n",
            "min   -4.179298e+00  \n",
            "25%   -6.608076e-01  \n",
            "50%   -2.655733e-04  \n",
            "75%    6.604193e-01  \n",
            "max    4.586590e+00  \n",
            "\n",
            "[8 rows x 48 columns]\n"
          ]
        }
      ]
    },
    {
      "cell_type": "markdown",
      "source": [
        "## 7. Component Analysis\n"
      ],
      "metadata": {
        "id": "Nfv1cEB4_kmS"
      },
      "id": "Nfv1cEB4_kmS"
    },
    {
      "cell_type": "code",
      "source": [
        "components_df = pd.DataFrame(\n",
        "    pca_reduced.components_[:5].T,  # First 5 components\n",
        "    columns=[f'PC{i+1}' for i in range(5)],\n",
        "    index=df.columns\n",
        ")\n",
        "\n",
        "print(\"Loadings for first 5 principal components:\")\n",
        "print(components_df.round(4))\n"
      ],
      "metadata": {
        "id": "j2PgEVRM_n4H",
        "outputId": "fb44ab2e-f6dd-4b15-8192-05656daec65e",
        "colab": {
          "base_uri": "https://localhost:8080/"
        }
      },
      "id": "j2PgEVRM_n4H",
      "execution_count": 16,
      "outputs": [
        {
          "output_type": "stream",
          "name": "stdout",
          "text": [
            "Loadings for first 5 principal components:\n",
            "          PC1     PC2     PC3     PC4     PC5\n",
            "Var1  -0.0289 -0.1064  0.0690  0.0493  0.0151\n",
            "Var2   0.0291 -0.1229 -0.0278  0.1740  0.1434\n",
            "Var3   0.0315 -0.1245  0.1492 -0.1095 -0.1170\n",
            "Var4  -0.0534 -0.0714  0.1678 -0.1222 -0.2739\n",
            "Var5   0.1803 -0.0900 -0.1346  0.0746 -0.1185\n",
            "Var6   0.0459  0.0711 -0.1920 -0.2918 -0.0764\n",
            "Var7   0.1566 -0.0553  0.1661 -0.0957 -0.1411\n",
            "Var8   0.0490  0.1797 -0.1370  0.0406 -0.2506\n",
            "Var9   0.1069 -0.0771 -0.1289  0.0845  0.0401\n",
            "Var10  0.0811  0.0304 -0.0919 -0.2299 -0.0945\n",
            "Var11 -0.0356  0.1785 -0.2370  0.2059 -0.0418\n",
            "Var12 -0.0834  0.2034  0.0260  0.1333  0.0386\n",
            "Var13  0.0932  0.0313  0.0594 -0.1050  0.3157\n",
            "Var14 -0.0954 -0.2561  0.0896  0.2951 -0.0685\n",
            "Var15  0.1071  0.0756  0.3886 -0.1531  0.0521\n",
            "Var16 -0.2196 -0.0935 -0.0195 -0.0654  0.2105\n",
            "Var17  0.2058 -0.1829 -0.0448  0.0088 -0.0266\n",
            "Var18 -0.2307 -0.0425 -0.0647 -0.2925 -0.0831\n",
            "Var19  0.2239  0.1872  0.1347  0.1592  0.1374\n",
            "Var20  0.1515 -0.1917  0.1224 -0.2038  0.0634\n",
            "Var21  0.1126  0.0199 -0.1488  0.0206  0.3555\n",
            "Var22  0.2622 -0.1003 -0.2660  0.0457  0.0613\n",
            "Var23  0.1599  0.1040 -0.0839  0.0610 -0.0016\n",
            "Var24 -0.0192 -0.1578  0.0569  0.0395  0.1285\n",
            "Var25  0.2061  0.1869  0.1707 -0.1165  0.0042\n",
            "Var26 -0.2874  0.2009 -0.0363  0.0679 -0.1673\n",
            "Var27 -0.0085 -0.0108  0.2209 -0.1399 -0.1092\n",
            "Var28 -0.0147  0.1493 -0.0297 -0.1213 -0.1348\n",
            "Var29  0.0230  0.1328  0.1304  0.0666  0.0251\n",
            "Var30  0.0536  0.0436 -0.0760  0.0908 -0.0682\n",
            "Var31 -0.1452 -0.2722 -0.1552 -0.1462 -0.0602\n",
            "Var32 -0.0658 -0.1246 -0.0752  0.0502  0.2093\n",
            "Var33  0.1817 -0.0805  0.1813  0.1199  0.0303\n",
            "Var34  0.0563  0.0396  0.0489  0.0172  0.2682\n",
            "Var35  0.0343  0.0477 -0.0171 -0.1585 -0.1057\n",
            "Var36 -0.2134  0.2975  0.1817  0.0702 -0.0254\n",
            "Var37  0.0596 -0.1912  0.0865  0.0047 -0.0632\n",
            "Var38  0.0755 -0.0675  0.1901  0.2604 -0.2264\n",
            "Var39 -0.0308  0.1469  0.0630 -0.1222  0.1750\n",
            "Var40  0.0598 -0.1048  0.1676 -0.1564  0.2166\n",
            "Var41 -0.0468 -0.1034  0.0502 -0.1854  0.1590\n",
            "Var42 -0.1093  0.1808 -0.1695 -0.1722  0.2056\n",
            "Var43 -0.0250 -0.1721  0.1862  0.0879 -0.0151\n",
            "Var44  0.0666  0.2159 -0.0107 -0.0578  0.0412\n",
            "Var45  0.3003  0.0438 -0.1533 -0.0570 -0.0898\n",
            "Var46  0.2841 -0.0293 -0.0474 -0.0336 -0.1607\n",
            "Var47  0.2446  0.0920 -0.1101  0.0924  0.0306\n",
            "Var48 -0.1879 -0.2763 -0.2214  0.0489 -0.0049\n",
            "Var49  0.0378 -0.0346 -0.0455 -0.2673 -0.0382\n",
            "Var50  0.1255 -0.0485 -0.1533 -0.1726 -0.1074\n"
          ]
        }
      ]
    },
    {
      "cell_type": "code",
      "source": [
        "plt.figure(figsize=(12, 8))\n",
        "sns.heatmap(components_df.T, cmap='RdBu_r', center=0,\n",
        "            xticklabels=True, yticklabels=True,\n",
        "            cbar_kws={'label': 'Loading Value'})\n",
        "plt.title('PCA Loadings Heatmap (First 5 Components)')\n",
        "plt.xlabel('Original Variables')\n",
        "plt.ylabel('Principal Components')\n",
        "plt.xticks(rotation=45)\n",
        "plt.tight_layout()\n",
        "plt.show()\n"
      ],
      "metadata": {
        "id": "Zy-gOPCs_tdP",
        "outputId": "9f6ef6c9-f9f2-473d-f231-6950b5617e3b",
        "colab": {
          "base_uri": "https://localhost:8080/",
          "height": 807
        }
      },
      "id": "Zy-gOPCs_tdP",
      "execution_count": 17,
      "outputs": [
        {
          "output_type": "display_data",
          "data": {
            "text/plain": [
              "<Figure size 1200x800 with 2 Axes>"
            ],
            "image/png": "[encoded data removed]"
          },
          "metadata": {}
        }
      ]
    },
    {
      "cell_type": "markdown",
      "source": [
        "## 8. Save Results"
      ],
      "metadata": {
        "id": "3LiOaCfE_yjW"
      },
      "id": "3LiOaCfE_yjW"
    },
    {
      "cell_type": "code",
      "source": [
        "pca_df.to_csv('pca_transformed_data.csv', index=False)\n",
        "components_df.to_csv('pca_loadings.csv', index=True)\n",
        "\n",
        "variance_info = pd.DataFrame({\n",
        "    'Component': [f'PC{i+1}' for i in range(len(explained_variance_ratio))],\n",
        "    'Explained_Variance_Ratio': explained_variance_ratio,\n",
        "    'Cumulative_Variance_Ratio': cumulative_variance_ratio\n",
        "})\n",
        "variance_info.to_csv('pca_variance_explained.csv', index=False)\n",
        "\n",
        "print(\"Results saved successfully!\")\n",
        "print(\"Files created:\")\n",
        "print(\"- pca_transformed_data.csv: PCA transformed data\")\n",
        "print(\"- pca_loadings.csv: Component loadings\")\n",
        "print(\"- pca_variance_explained.csv: Variance explained by each component\")\n"
      ],
      "metadata": {
        "id": "gxc1v-7t_00V",
        "outputId": "d60c8370-9e53-4f8f-ff63-8f399000180e",
        "colab": {
          "base_uri": "https://localhost:8080/"
        }
      },
      "id": "gxc1v-7t_00V",
      "execution_count": 18,
      "outputs": [
        {
          "output_type": "stream",
          "name": "stdout",
          "text": [
            "Results saved successfully!\n",
            "Files created:\n",
            "- pca_transformed_data.csv: PCA transformed data\n",
            "- pca_loadings.csv: Component loadings\n",
            "- pca_variance_explained.csv: Variance explained by each component\n"
          ]
        }
      ]
    },
    {
      "cell_type": "markdown",
      "source": [
        "## Summary\n",
        "This analysis has:\n",
        "1. Loaded and standardized the 50-dimensional dataset\n",
        "2. Applied PCA to reduce dimensionality\n",
        "3. Analyzed the variance explained by each component\n",
        "4. Determined optimal number of components for different variance thresholds\n",
        "5. Visualized the results through scree plots and heatmaps\n",
        "6. Saved the transformed data and analysis results\n",
        "\n",
        "The PCA analysis helps identify the most important dimensions in your data and can be used for dimensionality reduction while preserving most of the original information."
      ],
      "metadata": {
        "id": "D1_OyjmU_-HR"
      },
      "id": "D1_OyjmU_-HR"
    }
  ],
  "metadata": {
    "kernelspec": {
      "display_name": "Python 3",
      "name": "python3"
    },
    "language_info": {
      "name": "python"
    },
    "required_libs": [],
    "colab": {
      "provenance": []
    }
  },
  "nbformat": 4,
  "nbformat_minor": 5
}